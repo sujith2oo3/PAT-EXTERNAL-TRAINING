{
 "cells": [
  {
   "cell_type": "code",
   "execution_count": 4,
   "metadata": {},
   "outputs": [
    {
     "name": "stdout",
     "output_type": "stream",
     "text": [
      "3\n"
     ]
    }
   ],
   "source": [
    "#Tree & Tree Traversal\n",
    "class Node:\n",
    "    def __init__(self,value):\n",
    "        self.data=value\n",
    "        self.left=None\n",
    "        self.right=None\n",
    "\n",
    "class Tree:\n",
    "    def add_ele(self,root,value):\n",
    "        new_node=Node(value)\n",
    "        if value<root.data:\n",
    "            if root.left==None:\n",
    "                root.left=new_node\n",
    "            else:\n",
    "                self.add_ele(root.left,value)\n",
    "        else:\n",
    "            if root.right==None:\n",
    "                root.right=new_node\n",
    "            else:\n",
    "                self.add_ele(root.right,value)\n",
    "\n",
    "    def inorder(self,root):\n",
    "        if root.left!=None:\n",
    "            self.inorder(root.left)\n",
    "        print(root.data,end=\" \")\n",
    "        if root.right!=None:\n",
    "            self.inorder(root.right)\n",
    "\n",
    "    def preorder(self,root):\n",
    "        print(root.data,end=\" \")\n",
    "        if root.left!=None:\n",
    "            self.preorder(root.left)\n",
    "        if root.right!=None:\n",
    "            self.preorder(root.right)\n",
    "    \n",
    "    def postorder(self,root):\n",
    "        if root.left!=None:\n",
    "            self.postorder(root.left)\n",
    "        if root.right!=None:\n",
    "            self.postorder(root.right)\n",
    "        print(root.data,end=\" \")\n",
    "    \n",
    "    def levelorder(self,root):\n",
    "        q=[root]\n",
    "        while len(q)!=0:\n",
    "            ele=q.pop(0)\n",
    "            print(ele.data,end=' ')\n",
    "            if ele.left!=None:\n",
    "                q.append(ele.left)\n",
    "            if ele.right!=None:\n",
    "                q.append(ele.right)\n",
    "            \n",
    "    #multiply left subtree sum with right subtree sum\n",
    "    def sum(self,root):\n",
    "        res=root.data\n",
    "        if root.left!=None:\n",
    "            res+=self.sum(root.left)\n",
    "        if root.right!=None:\n",
    "            res+=self.sum(root.right)\n",
    "        return res\n",
    "    def height(self,root):\n",
    "        if root==None:\n",
    "            return -1\n",
    "        left_height=self.height(root.left)\n",
    "        right_height=self.height(root.right)\n",
    "        return 1+max(left_height,right_height)       \n",
    "        \n",
    "\n",
    "ob=Tree()\n",
    "root=Node(10)\n",
    "ob.add_ele(root,5)\n",
    "ob.add_ele(root,15)\n",
    "ob.add_ele(root,2)\n",
    "ob.add_ele(root,6)\n",
    "ob.add_ele(root,7)\n",
    "ob.add_ele(root,12)\n",
    "ob.add_ele(root,17)\n",
    "\"\"\" ob.inorder(root)\n",
    "print()\n",
    "ob.preorder(root)\n",
    "print()\n",
    "ob.postorder(root)\n",
    "print()\n",
    "ob.levelorder(root)\n",
    "print() \"\"\"\n",
    "#print(ob.sum(root.left)*ob.sum(root.right))\n",
    "print(ob.height(root))"
   ]
  },
  {
   "attachments": {},
   "cell_type": "markdown",
   "metadata": {},
   "source": [
    "graphs \n",
    "BFS"
   ]
  },
  {
   "cell_type": "code",
   "execution_count": 5,
   "metadata": {},
   "outputs": [
    {
     "name": "stdout",
     "output_type": "stream",
     "text": [
      "20 10 40 50 30 "
     ]
    }
   ],
   "source": [
    "graph={\n",
    "    10:[20,40,50],\n",
    "    20:[10,40],\n",
    "    50:[10,40,30],\n",
    "    40:[10,20,30,50],\n",
    "    30:[40,50]\n",
    "}\n",
    "visited=[]\n",
    "q=[]\n",
    "def Bft(visied,graph,node):\n",
    "    visited.append(node)\n",
    "    q.append(node)\n",
    "    while q:\n",
    "        m=q.pop(0)\n",
    "        print(m,end=\" \")\n",
    "        for i in graph[m]:\n",
    "            if i not in visited:\n",
    "                visited.append(i)\n",
    "                q.append(i)\n",
    "Bft(visited,graph,20)"
   ]
  },
  {
   "attachments": {},
   "cell_type": "markdown",
   "metadata": {},
   "source": [
    "DFS"
   ]
  },
  {
   "cell_type": "code",
   "execution_count": 6,
   "metadata": {},
   "outputs": [
    {
     "name": "stdout",
     "output_type": "stream",
     "text": [
      "H B A D K C E "
     ]
    }
   ],
   "source": [
    "graph={\n",
    "    'A':['B','D','C'],\n",
    "    'B':['A','D','H'],\n",
    "    'C':['A','D','E'],\n",
    "    'D':['K','A','B','C','E'],\n",
    "    'E':['C','D'],\n",
    "    'H':['B'],\n",
    "    'K':['D']\n",
    "    \n",
    "}\n",
    "visited=[]\n",
    "def DFS(visited,graph,node):\n",
    "    if node not in visited:\n",
    "        print(node,end=\" \")\n",
    "        visited.append(node)\n",
    "        for i in graph[node]:\n",
    "            DFS(visited,graph,i)\n",
    "DFS(visited,graph,\"H\")\n",
    "            \n",
    "    "
   ]
  },
  {
   "cell_type": "code",
   "execution_count": 7,
   "metadata": {},
   "outputs": [
    {
     "name": "stdout",
     "output_type": "stream",
     "text": [
      "20 10 40 30 50 "
     ]
    }
   ],
   "source": [
    "def dfs(graph, start, visited = None):\n",
    "    if visited == None:\n",
    "        visited = []\n",
    "    visited.append(start)\n",
    "    print(start,end=\" \")\n",
    "    for i in graph[start]:\n",
    "        if i not in visited:\n",
    "            visited.append(i)\n",
    "            dfs(graph, i, visited)\n",
    "\n",
    "\n",
    "\n",
    "graph = {\n",
    "    10: [20,40,50],\n",
    "    20: [10,40],\n",
    "    30: [40,50],\n",
    "    40: [10,20,30,50],\n",
    "    50: [10,40,30]\n",
    "}\n",
    "dfs(graph, 20)"
   ]
  },
  {
   "cell_type": "code",
   "execution_count": null,
   "metadata": {},
   "outputs": [],
   "source": [
    "#complexity log n for mul or div in inner loop variable \n",
    "def has_path(matrix, x, y):\n",
    "    visited = [[False for _ in range(len(matrix[0]))] for _ in range(len(matrix))]\n",
    "    \n",
    "    def dfs(row, col, x, y):\n",
    "        if row == x and col == y:\n",
    "            return True\n",
    "        \n",
    "        visited[row][col] = True\n",
    "        neighbors = [(row-1, col), (row+1, col), (row, col-1), (row, col+1)]\n",
    "        for n_row, n_col in neighbors:\n",
    "            if 0 <= n_row < len(matrix) and 0 <= n_col < len(matrix[0]) and matrix[n_row][n_col] == 1 and not visited[n_row][n_col]:\n",
    "                if dfs(n_row, n_col, x, y):\n",
    "                    return True\n",
    "        \n",
    "        return False\n",
    "    \n",
    "    return dfs(0, 0, x, y)\n",
    "matrix = [[1, 0, 0, 0],\n",
    "          [1, 1, 0, 1],\n",
    "          [0, 1, 0, 0],\n",
    "          [1, 1, 1, 1]]\n",
    "\n",
    "x, y = 3, 3\n",
    "if has_path(matrix, x, y):\n",
    "    print(\"There is a path from (0,0) to ({},{})\".format(x,y))\n",
    "else:\n",
    "    print(\"There is no path from (0,0) to ({},{})\".format(x,y))\n",
    "  "
   ]
  }
 ],
 "metadata": {
  "kernelspec": {
   "display_name": "Python 3",
   "language": "python",
   "name": "python3"
  },
  "language_info": {
   "codemirror_mode": {
    "name": "ipython",
    "version": 3
   },
   "file_extension": ".py",
   "mimetype": "text/x-python",
   "name": "python",
   "nbconvert_exporter": "python",
   "pygments_lexer": "ipython3",
   "version": "3.10.7"
  },
  "orig_nbformat": 4
 },
 "nbformat": 4,
 "nbformat_minor": 2
}
